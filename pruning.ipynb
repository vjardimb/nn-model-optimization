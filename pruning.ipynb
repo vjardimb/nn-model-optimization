{
  "nbformat": 4,
  "nbformat_minor": 0,
  "metadata": {
    "colab": {
      "provenance": [],
      "gpuType": "T4",
      "authorship_tag": "ABX9TyN4OCZ1E2hBi+fu+DYwEaIJ",
      "include_colab_link": true
    },
    "kernelspec": {
      "name": "python3",
      "display_name": "Python 3"
    },
    "language_info": {
      "name": "python"
    },
    "accelerator": "GPU"
  },
  "cells": [
    {
      "cell_type": "markdown",
      "metadata": {
        "id": "view-in-github",
        "colab_type": "text"
      },
      "source": [
        "<a href=\"https://colab.research.google.com/github/vjardimb/nn-model-optimization/blob/main/pruning.ipynb\" target=\"_parent\"><img src=\"https://colab.research.google.com/assets/colab-badge.svg\" alt=\"Open In Colab\"/></a>"
      ]
    },
    {
      "cell_type": "markdown",
      "source": [
        "#Pruning on MNIST and Tensorflow\n",
        "\n",
        "The goal of this notebook is to get familiar with the concept and different techniques of pruning on TensorFlow neural networks using the MNIST dataset. Pruning is a model optimization techinique whose goal is to shrink the model's size by removing from it a considerable amount of parameters while having a negligible performance difference.\n",
        "\n"
      ],
      "metadata": {
        "id": "E23V-Ok8B_TX"
      }
    },
    {
      "cell_type": "markdown",
      "source": [
        "## Summary\n",
        "\n",
        "1. Train and evaluate a Tensorflow model to classify the MNIST dataset samples.\n",
        "2. Train a 3x and a 10x smaller model and prune it.\n",
        "3. Fine tuning new models and check their perfomance\n",
        "4. Compare models' results\n",
        "\n"
      ],
      "metadata": {
        "id": "41kEmEQwE_ex"
      }
    },
    {
      "cell_type": "code",
      "source": [
        "import os\n",
        "import numpy as np\n",
        "import tensorflow as tf\n",
        "import matplotlib.pyplot as plt\n",
        "from tensorflow import keras\n",
        "import tensorboard\n",
        "\n",
        "from keras.models import Sequential\n",
        "from keras.layers import (\n",
        "    InputLayer, Conv2D, MaxPooling2D, Activation, Flatten, Dense, Dropout, BatchNormalization\n",
        ")"
      ],
      "metadata": {
        "id": "40qapOXzCY82"
      },
      "execution_count": 1,
      "outputs": []
    },
    {
      "cell_type": "code",
      "source": [
        "# check GPU availability\n",
        "tf.config.list_physical_devices('GPU')"
      ],
      "metadata": {
        "id": "vKWNLd4IGHvN",
        "colab": {
          "base_uri": "https://localhost:8080/"
        },
        "outputId": "8600f241-09d8-412f-97c5-2277be0654e6"
      },
      "execution_count": 2,
      "outputs": [
        {
          "output_type": "execute_result",
          "data": {
            "text/plain": [
              "[PhysicalDevice(name='/physical_device:GPU:0', device_type='GPU')]"
            ]
          },
          "metadata": {},
          "execution_count": 2
        }
      ]
    },
    {
      "cell_type": "markdown",
      "source": [
        "###Hyperparameters"
      ],
      "metadata": {
        "id": "FFn9NOFfk2rM"
      }
    },
    {
      "cell_type": "code",
      "source": [
        "N_CHANNELS = 1\n",
        "IMG_SHAPE = (28, 28)\n",
        "N_CLASSES = 10\n",
        "INPUT_SHAPE = (28,28,1)\n",
        "\n",
        "BATCH_SIZE = 128\n",
        "EPOCHS = 10\n",
        "\n",
        "INITIAL_SPARSITY = 0.5\n",
        "FINAL_SPARSITY = 0.9\n",
        "PRUNING_EPOCHS = 4"
      ],
      "metadata": {
        "id": "V8rb45sRk1XB"
      },
      "execution_count": 33,
      "outputs": []
    },
    {
      "cell_type": "markdown",
      "source": [
        "###Load Data"
      ],
      "metadata": {
        "id": "Dt9W0vtMCTG6"
      }
    },
    {
      "cell_type": "code",
      "execution_count": 4,
      "metadata": {
        "colab": {
          "base_uri": "https://localhost:8080/"
        },
        "id": "f1v57O3r6jX9",
        "outputId": "1d9f1425-93df-457c-b922-c7697d278c62"
      },
      "outputs": [
        {
          "output_type": "stream",
          "name": "stdout",
          "text": [
            "Downloading data from https://storage.googleapis.com/tensorflow/tf-keras-datasets/mnist.npz\n",
            "11490434/11490434 [==============================] - 0s 0us/step\n",
            "(60000, 28, 28) (10000, 28, 28)\n"
          ]
        }
      ],
      "source": [
        "# Load MNIST dataset\n",
        "mnist = keras.datasets.mnist\n",
        "(train_images, train_labels), (test_images, test_labels) = mnist.load_data()\n",
        "\n",
        "print(train_images.shape, test_images.shape)"
      ]
    },
    {
      "cell_type": "markdown",
      "source": [
        "### Preprocessing"
      ],
      "metadata": {
        "id": "yLB6oruri0jc"
      }
    },
    {
      "cell_type": "code",
      "source": [
        "# Normalize the input image so that each pixel value is between 0 and 1.\n",
        "train_images = train_images / 255.0\n",
        "test_images = test_images / 255.0\n",
        "\n",
        "# add channels dimensions\n",
        "if keras.backend.image_data_format() == \"channels_first\":\n",
        "  train_images = train_images.reshape(train_images.shape[0], 1, IMG_SHAPE[0], IMG_SHAPE[1]).astype('float32')\n",
        "  test_images = test_images.reshape(test_images.shape[0], 1, IMG_SHAPE[0], IMG_SHAPE[1]).astype('float32')\n",
        "else:\n",
        "  train_images = train_images.reshape(train_images.shape[0], IMG_SHAPE[0], IMG_SHAPE[1], 1).astype('float32')\n",
        "  test_images = test_images.reshape(test_images.shape[0], IMG_SHAPE[0], IMG_SHAPE[1], 1).astype('float32')\n",
        "\n",
        "# one-hot encoding on classes labels\n",
        "train_labels = keras.utils.to_categorical(train_labels)\n",
        "test_labels = keras.utils.to_categorical(test_labels)"
      ],
      "metadata": {
        "id": "g7feVa73izB9"
      },
      "execution_count": 5,
      "outputs": []
    },
    {
      "cell_type": "code",
      "source": [
        "# plot four images as gray scale\n",
        "for i in range(1,5):\n",
        "  plt.subplot(320+i)\n",
        "  plt.imshow(train_images[i],cmap='gray')\n",
        "  plt.axis('off')"
      ],
      "metadata": {
        "colab": {
          "base_uri": "https://localhost:8080/",
          "height": 276
        },
        "id": "fxsRVuz1bueO",
        "outputId": "6e9514c9-46e3-49e9-e3ed-2b9fc73e569b"
      },
      "execution_count": 6,
      "outputs": [
        {
          "output_type": "display_data",
          "data": {
            "text/plain": [
              "<Figure size 640x480 with 4 Axes>"
            ],
            "image/png": "[encoded data removed]"
          },
          "metadata": {}
        }
      ]
    },
    {
      "cell_type": "markdown",
      "source": [
        "###Create Initial Model (No Prunning)"
      ],
      "metadata": {
        "id": "8i59aD9ekczH"
      }
    },
    {
      "cell_type": "code",
      "source": [
        "model = Sequential()\n",
        "\n",
        "model.add(Conv2D(32, (3, 3), input_shape=(IMG_SHAPE[0],IMG_SHAPE[1],1), padding=\"same\"))\n",
        "model.add(BatchNormalization(axis=-1))\n",
        "model.add(Activation('relu'))\n",
        "\n",
        "model.add(Conv2D(32, (3, 3)))\n",
        "model.add(BatchNormalization(axis=-1))\n",
        "model.add(Activation('relu'))\n",
        "\n",
        "model.add(MaxPooling2D(pool_size=(2,2)))\n",
        "\n",
        "model.add(Conv2D(64,(3, 3)))\n",
        "model.add(BatchNormalization(axis=-1))\n",
        "model.add(Activation('relu'))\n",
        "\n",
        "model.add(Conv2D(64, (3, 3)))\n",
        "model.add(BatchNormalization(axis=-1))\n",
        "model.add(Activation('relu'))\n",
        "\n",
        "model.add(MaxPooling2D(pool_size=(2,2)))\n",
        "\n",
        "model.add(Flatten())\n",
        "\n",
        "# Fully connected layer\n",
        "model.add(Dense(512))\n",
        "model.add(BatchNormalization())\n",
        "model.add(Activation('relu'))\n",
        "model.add(Dropout(0.2))\n",
        "\n",
        "model.add(Dense(10))\n",
        "\n",
        "model.add(Activation('softmax')) # Softmax activation enables us to calculate the output based on the probabilities"
      ],
      "metadata": {
        "id": "iBUBqLGSecXu"
      },
      "execution_count": 7,
      "outputs": []
    },
    {
      "cell_type": "code",
      "source": [
        "model.summary()"
      ],
      "metadata": {
        "colab": {
          "base_uri": "https://localhost:8080/"
        },
        "id": "BBUBHhAbh0b7",
        "outputId": "d42af603-9d79-41d3-d53d-c356bc995c52"
      },
      "execution_count": 8,
      "outputs": [
        {
          "output_type": "stream",
          "name": "stdout",
          "text": [
            "Model: \"sequential\"\n",
            "_________________________________________________________________\n",
            " Layer (type)                Output Shape              Param #   \n",
            "=================================================================\n",
            " conv2d (Conv2D)             (None, 28, 28, 32)        320       \n",
            "                                                                 \n",
            " batch_normalization (Batch  (None, 28, 28, 32)        128       \n",
            " Normalization)                                                  \n",
            "                                                                 \n",
            " activation (Activation)     (None, 28, 28, 32)        0         \n",
            "                                                                 \n",
            " conv2d_1 (Conv2D)           (None, 26, 26, 32)        9248      \n",
            "                                                                 \n",
            " batch_normalization_1 (Bat  (None, 26, 26, 32)        128       \n",
            " chNormalization)                                                \n",
            "                                                                 \n",
            " activation_1 (Activation)   (None, 26, 26, 32)        0         \n",
            "                                                                 \n",
            " max_pooling2d (MaxPooling2  (None, 13, 13, 32)        0         \n",
            " D)                                                              \n",
            "                                                                 \n",
            " conv2d_2 (Conv2D)           (None, 11, 11, 64)        18496     \n",
            "                                                                 \n",
            " batch_normalization_2 (Bat  (None, 11, 11, 64)        256       \n",
            " chNormalization)                                                \n",
            "                                                                 \n",
            " activation_2 (Activation)   (None, 11, 11, 64)        0         \n",
            "                                                                 \n",
            " conv2d_3 (Conv2D)           (None, 9, 9, 64)          36928     \n",
            "                                                                 \n",
            " batch_normalization_3 (Bat  (None, 9, 9, 64)          256       \n",
            " chNormalization)                                                \n",
            "                                                                 \n",
            " activation_3 (Activation)   (None, 9, 9, 64)          0         \n",
            "                                                                 \n",
            " max_pooling2d_1 (MaxPoolin  (None, 4, 4, 64)          0         \n",
            " g2D)                                                            \n",
            "                                                                 \n",
            " flatten (Flatten)           (None, 1024)              0         \n",
            "                                                                 \n",
            " dense (Dense)               (None, 512)               524800    \n",
            "                                                                 \n",
            " batch_normalization_4 (Bat  (None, 512)               2048      \n",
            " chNormalization)                                                \n",
            "                                                                 \n",
            " activation_4 (Activation)   (None, 512)               0         \n",
            "                                                                 \n",
            " dropout (Dropout)           (None, 512)               0         \n",
            "                                                                 \n",
            " dense_1 (Dense)             (None, 10)                5130      \n",
            "                                                                 \n",
            " activation_5 (Activation)   (None, 10)                0         \n",
            "                                                                 \n",
            "=================================================================\n",
            "Total params: 597738 (2.28 MB)\n",
            "Trainable params: 596330 (2.27 MB)\n",
            "Non-trainable params: 1408 (5.50 KB)\n",
            "_________________________________________________________________\n"
          ]
        }
      ]
    },
    {
      "cell_type": "markdown",
      "source": [
        "###Model Training"
      ],
      "metadata": {
        "id": "HBjsx19Ho9mf"
      }
    },
    {
      "cell_type": "code",
      "source": [
        "import tempfile\n",
        "\n",
        "logdir = tempfile.mkdtemp()\n",
        "print('Writing training logs to ' + logdir)"
      ],
      "metadata": {
        "colab": {
          "base_uri": "https://localhost:8080/"
        },
        "id": "aw3FyYhko9Oq",
        "outputId": "175a5b7f-0ba2-4cbe-c51b-b6ed75977b6f"
      },
      "execution_count": 9,
      "outputs": [
        {
          "output_type": "stream",
          "name": "stdout",
          "text": [
            "Writing training logs to /tmp/tmp_idnfbmr\n"
          ]
        }
      ]
    },
    {
      "cell_type": "code",
      "source": [
        "callbacks = [tf.keras.callbacks.TensorBoard(log_dir=logdir, profile_batch=0)]\n",
        "\n",
        "model.compile(\n",
        "    loss=tf.keras.losses.categorical_crossentropy,\n",
        "    optimizer='adam',\n",
        "    metrics=['accuracy'])\n",
        "\n",
        "model.fit(train_images, train_labels,\n",
        "          batch_size=BATCH_SIZE,\n",
        "          epochs=EPOCHS,\n",
        "          verbose=1,\n",
        "          callbacks=callbacks,\n",
        "          validation_data=(test_images, test_labels))\n",
        "score = model.evaluate(test_images, test_labels, verbose=0)"
      ],
      "metadata": {
        "colab": {
          "base_uri": "https://localhost:8080/"
        },
        "id": "75wxBU_FqOuy",
        "outputId": "19e09f6e-b0ec-4eda-b02e-12c0c83c10b3"
      },
      "execution_count": 11,
      "outputs": [
        {
          "output_type": "stream",
          "name": "stdout",
          "text": [
            "Epoch 1/10\n",
            "469/469 [==============================] - 22s 12ms/step - loss: 0.0850 - accuracy: 0.9739 - val_loss: 0.0540 - val_accuracy: 0.9855\n",
            "Epoch 2/10\n",
            "469/469 [==============================] - 5s 11ms/step - loss: 0.0300 - accuracy: 0.9905 - val_loss: 0.0664 - val_accuracy: 0.9789\n",
            "Epoch 3/10\n",
            "469/469 [==============================] - 6s 12ms/step - loss: 0.0226 - accuracy: 0.9930 - val_loss: 0.0288 - val_accuracy: 0.9915\n",
            "Epoch 4/10\n",
            "469/469 [==============================] - 5s 11ms/step - loss: 0.0169 - accuracy: 0.9950 - val_loss: 0.0201 - val_accuracy: 0.9925\n",
            "Epoch 5/10\n",
            "469/469 [==============================] - 6s 12ms/step - loss: 0.0130 - accuracy: 0.9960 - val_loss: 0.0315 - val_accuracy: 0.9905\n",
            "Epoch 6/10\n",
            "469/469 [==============================] - 5s 12ms/step - loss: 0.0129 - accuracy: 0.9958 - val_loss: 0.0505 - val_accuracy: 0.9843\n",
            "Epoch 7/10\n",
            "469/469 [==============================] - 6s 12ms/step - loss: 0.0099 - accuracy: 0.9969 - val_loss: 0.0274 - val_accuracy: 0.9925\n",
            "Epoch 8/10\n",
            "469/469 [==============================] - 5s 11ms/step - loss: 0.0095 - accuracy: 0.9970 - val_loss: 0.0227 - val_accuracy: 0.9927\n",
            "Epoch 9/10\n",
            "469/469 [==============================] - 5s 12ms/step - loss: 0.0072 - accuracy: 0.9977 - val_loss: 0.0262 - val_accuracy: 0.9932\n",
            "Epoch 10/10\n",
            "469/469 [==============================] - 6s 12ms/step - loss: 0.0074 - accuracy: 0.9975 - val_loss: 0.0424 - val_accuracy: 0.9903\n"
          ]
        }
      ]
    },
    {
      "cell_type": "markdown",
      "source": [
        "### Evaluate Model"
      ],
      "metadata": {
        "id": "b2AjnDBn4CK5"
      }
    },
    {
      "cell_type": "code",
      "source": [
        "_, baseline_model_accuracy = model.evaluate(\n",
        "    test_images, test_labels, verbose=0)\n",
        "\n",
        "print('Baseline test accuracy:', baseline_model_accuracy)"
      ],
      "metadata": {
        "colab": {
          "base_uri": "https://localhost:8080/"
        },
        "id": "MdmGIOuv4FMd",
        "outputId": "ff2ffc38-c591-4f79-810b-4531cb0ef4fc"
      },
      "execution_count": 26,
      "outputs": [
        {
          "output_type": "stream",
          "name": "stdout",
          "text": [
            "Baseline test accuracy: 0.9902999997138977\n"
          ]
        }
      ]
    },
    {
      "cell_type": "markdown",
      "source": [
        "### Save Model for Later Comparison"
      ],
      "metadata": {
        "id": "Erbos1OIvEZx"
      }
    },
    {
      "cell_type": "code",
      "source": [
        "from google.colab import drive\n",
        "\n",
        "drive.mount('/content/gdrive')"
      ],
      "metadata": {
        "colab": {
          "base_uri": "https://localhost:8080/"
        },
        "id": "2uv2TLrVuon6",
        "outputId": "bb5f0394-1ba9-48f0-89f0-9a15fda23aa5"
      },
      "execution_count": 15,
      "outputs": [
        {
          "output_type": "stream",
          "name": "stdout",
          "text": [
            "Mounted at /content/gdrive\n"
          ]
        }
      ]
    },
    {
      "cell_type": "code",
      "source": [
        "!ls /content/gdrive/My\\ Drive/ML\\ Projects/pruning"
      ],
      "metadata": {
        "id": "RIrLg6eqvYFK"
      },
      "execution_count": 23,
      "outputs": []
    },
    {
      "cell_type": "code",
      "source": [
        "model_save_name = 'unpruned_model'\n",
        "path = f\"/content/gdrive/My Drive/ML Projects/pruning/{model_save_name}.h5\"\n",
        "model.save(path)"
      ],
      "metadata": {
        "id": "ADdTzq9mvzPf"
      },
      "execution_count": 25,
      "outputs": []
    },
    {
      "cell_type": "markdown",
      "source": [
        "### Fine-tune Pruned Model"
      ],
      "metadata": {
        "id": "XckpsmHLw7w7"
      }
    },
    {
      "cell_type": "code",
      "source": [
        "!pip install tensorflow-model-optimization"
      ],
      "metadata": {
        "colab": {
          "base_uri": "https://localhost:8080/"
        },
        "id": "gZA8ToK768tf",
        "outputId": "9c7cec4a-076f-4f92-80e9-f6c6842cd821"
      },
      "execution_count": 29,
      "outputs": [
        {
          "output_type": "stream",
          "name": "stdout",
          "text": [
            "Collecting tensorflow-model-optimization\n",
            "  Downloading tensorflow_model_optimization-0.7.5-py2.py3-none-any.whl (241 kB)\n",
            "\u001b[2K     \u001b[90m━━━━━━━━━━━━━━━━━━━━━━━━━━━━━━━━━━━━━━━━\u001b[0m \u001b[32m241.2/241.2 kB\u001b[0m \u001b[31m5.0 MB/s\u001b[0m eta \u001b[36m0:00:00\u001b[0m\n",
            "\u001b[?25hRequirement already satisfied: absl-py~=1.2 in /usr/local/lib/python3.10/dist-packages (from tensorflow-model-optimization) (1.4.0)\n",
            "Requirement already satisfied: dm-tree~=0.1.1 in /usr/local/lib/python3.10/dist-packages (from tensorflow-model-optimization) (0.1.8)\n",
            "Requirement already satisfied: numpy~=1.23 in /usr/local/lib/python3.10/dist-packages (from tensorflow-model-optimization) (1.23.5)\n",
            "Requirement already satisfied: six~=1.14 in /usr/local/lib/python3.10/dist-packages (from tensorflow-model-optimization) (1.16.0)\n",
            "Installing collected packages: tensorflow-model-optimization\n",
            "Successfully installed tensorflow-model-optimization-0.7.5\n"
          ]
        }
      ]
    },
    {
      "cell_type": "code",
      "source": [
        "import tensorflow_model_optimization as tfmot\n",
        "\n",
        "prune_low_magnitude = tfmot.sparsity.keras.prune_low_magnitude\n",
        "\n",
        "num_images = train_images.shape[0]\n",
        "end_step = np.ceil(num_images / BATCH_SIZE).astype(np.int32) * PRUNING_EPOCHS\n",
        "\n",
        "# Define model for pruning.\n",
        "pruning_params = {\n",
        "      'pruning_schedule': tfmot.sparsity.keras.PolynomialDecay(initial_sparsity=0.50,\n",
        "                                                               final_sparsity=0.80,\n",
        "                                                               begin_step=0,\n",
        "                                                               end_step=end_step)\n",
        "}\n",
        "\n",
        "# create pruned model based on the original one\n",
        "pruned_model = prune_low_magnitude(model, **pruning_params)\n",
        "\n",
        "# recompile pruned model\n",
        "pruned_model.compile(optimizer='adam',\n",
        "              loss=tf.keras.losses.categorical_crossentropy,\n",
        "              metrics=['accuracy'])\n",
        "\n",
        "pruned_model.summary()"
      ],
      "metadata": {
        "colab": {
          "base_uri": "https://localhost:8080/"
        },
        "id": "VOI2ulzsw12p",
        "outputId": "2478363c-666e-474e-b5c7-61f03805bde9"
      },
      "execution_count": 42,
      "outputs": [
        {
          "output_type": "stream",
          "name": "stdout",
          "text": [
            "Model: \"sequential\"\n",
            "_________________________________________________________________\n",
            " Layer (type)                Output Shape              Param #   \n",
            "=================================================================\n",
            " prune_low_magnitude_conv2d  (None, 28, 28, 32)        610       \n",
            "  (PruneLowMagnitude)                                            \n",
            "                                                                 \n",
            " prune_low_magnitude_batch_  (None, 28, 28, 32)        129       \n",
            " normalization (PruneLowMag                                      \n",
            " nitude)                                                         \n",
            "                                                                 \n",
            " prune_low_magnitude_activa  (None, 28, 28, 32)        1         \n",
            " tion (PruneLowMagnitude)                                        \n",
            "                                                                 \n",
            " prune_low_magnitude_conv2d  (None, 26, 26, 32)        18466     \n",
            " _1 (PruneLowMagnitude)                                          \n",
            "                                                                 \n",
            " prune_low_magnitude_batch_  (None, 26, 26, 32)        129       \n",
            " normalization_1 (PruneLowM                                      \n",
            " agnitude)                                                       \n",
            "                                                                 \n",
            " prune_low_magnitude_activa  (None, 26, 26, 32)        1         \n",
            " tion_1 (PruneLowMagnitude)                                      \n",
            "                                                                 \n",
            " prune_low_magnitude_max_po  (None, 13, 13, 32)        1         \n",
            " oling2d (PruneLowMagnitude                                      \n",
            " )                                                               \n",
            "                                                                 \n",
            " prune_low_magnitude_conv2d  (None, 11, 11, 64)        36930     \n",
            " _2 (PruneLowMagnitude)                                          \n",
            "                                                                 \n",
            " prune_low_magnitude_batch_  (None, 11, 11, 64)        257       \n",
            " normalization_2 (PruneLowM                                      \n",
            " agnitude)                                                       \n",
            "                                                                 \n",
            " prune_low_magnitude_activa  (None, 11, 11, 64)        1         \n",
            " tion_2 (PruneLowMagnitude)                                      \n",
            "                                                                 \n",
            " prune_low_magnitude_conv2d  (None, 9, 9, 64)          73794     \n",
            " _3 (PruneLowMagnitude)                                          \n",
            "                                                                 \n",
            " prune_low_magnitude_batch_  (None, 9, 9, 64)          257       \n",
            " normalization_3 (PruneLowM                                      \n",
            " agnitude)                                                       \n",
            "                                                                 \n",
            " prune_low_magnitude_activa  (None, 9, 9, 64)          1         \n",
            " tion_3 (PruneLowMagnitude)                                      \n",
            "                                                                 \n",
            " prune_low_magnitude_max_po  (None, 4, 4, 64)          1         \n",
            " oling2d_1 (PruneLowMagnitu                                      \n",
            " de)                                                             \n",
            "                                                                 \n",
            " prune_low_magnitude_flatte  (None, 1024)              1         \n",
            " n (PruneLowMagnitude)                                           \n",
            "                                                                 \n",
            " prune_low_magnitude_dense   (None, 512)               1049090   \n",
            " (PruneLowMagnitude)                                             \n",
            "                                                                 \n",
            " prune_low_magnitude_batch_  (None, 512)               2049      \n",
            " normalization_4 (PruneLowM                                      \n",
            " agnitude)                                                       \n",
            "                                                                 \n",
            " prune_low_magnitude_activa  (None, 512)               1         \n",
            " tion_4 (PruneLowMagnitude)                                      \n",
            "                                                                 \n",
            " prune_low_magnitude_dropou  (None, 512)               1         \n",
            " t (PruneLowMagnitude)                                           \n",
            "                                                                 \n",
            " prune_low_magnitude_dense_  (None, 10)                10252     \n",
            " 1 (PruneLowMagnitude)                                           \n",
            "                                                                 \n",
            " prune_low_magnitude_activa  (None, 10)                1         \n",
            " tion_5 (PruneLowMagnitude)                                      \n",
            "                                                                 \n",
            "=================================================================\n",
            "Total params: 1191973 (4.55 MB)\n",
            "Trainable params: 596330 (2.27 MB)\n",
            "Non-trainable params: 595643 (2.27 MB)\n",
            "_________________________________________________________________\n"
          ]
        }
      ]
    },
    {
      "cell_type": "code",
      "source": [
        "callbacks = [\n",
        "  tfmot.sparsity.keras.UpdatePruningStep(),\n",
        "  tfmot.sparsity.keras.PruningSummaries(log_dir=logdir),\n",
        "]\n",
        "\n",
        "pruned_model.fit(\n",
        "    train_images,\n",
        "    train_labels,\n",
        "    batch_size=BATCH_SIZE,\n",
        "    epochs=PRUNING_EPOCHS,\n",
        "    callbacks=callbacks)"
      ],
      "metadata": {
        "colab": {
          "base_uri": "https://localhost:8080/"
        },
        "id": "Uy_jRVCD9K08",
        "outputId": "0d370be4-4ec7-417a-8922-a6be60ac8368"
      },
      "execution_count": 43,
      "outputs": [
        {
          "output_type": "stream",
          "name": "stdout",
          "text": [
            "Epoch 1/4\n",
            "  4/469 [..............................] - ETA: 8s - loss: 0.0041 - accuracy: 1.0000   "
          ]
        },
        {
          "output_type": "stream",
          "name": "stderr",
          "text": [
            "WARNING:tensorflow:Callback method `on_train_batch_end` is slow compared to the batch time (batch time: 0.0128s vs `on_train_batch_end` time: 0.0248s). Check your callbacks.\n"
          ]
        },
        {
          "output_type": "stream",
          "name": "stdout",
          "text": [
            "469/469 [==============================] - 20s 28ms/step - loss: 0.0096 - accuracy: 0.9969\n",
            "Epoch 2/4\n",
            "469/469 [==============================] - 8s 16ms/step - loss: 0.0083 - accuracy: 0.9979\n",
            "Epoch 3/4\n",
            "469/469 [==============================] - 8s 17ms/step - loss: 0.0067 - accuracy: 0.9984\n",
            "Epoch 4/4\n",
            "469/469 [==============================] - 9s 18ms/step - loss: 0.0031 - accuracy: 0.9996\n"
          ]
        },
        {
          "output_type": "execute_result",
          "data": {
            "text/plain": [
              "<keras.src.callbacks.History at 0x7d4139a52fb0>"
            ]
          },
          "metadata": {},
          "execution_count": 43
        }
      ]
    },
    {
      "cell_type": "markdown",
      "source": [
        "### Compare Performances"
      ],
      "metadata": {
        "id": "YFZOm6f-_oCJ"
      }
    },
    {
      "cell_type": "code",
      "source": [
        "_, model_for_pruning_accuracy = pruned_model.evaluate(\n",
        "   test_images, test_labels, verbose=0)\n",
        "\n",
        "print('Baseline test accuracy:', baseline_model_accuracy)\n",
        "print('Pruned test accuracy:', model_for_pruning_accuracy)"
      ],
      "metadata": {
        "colab": {
          "base_uri": "https://localhost:8080/"
        },
        "id": "dVISABZ1_Vm-",
        "outputId": "e29f21e6-b50f-4e1a-955f-dd92c13879fd"
      },
      "execution_count": 45,
      "outputs": [
        {
          "output_type": "stream",
          "name": "stdout",
          "text": [
            "Baseline test accuracy: 0.9902999997138977\n",
            "Pruned test accuracy: 0.9947999715805054\n"
          ]
        }
      ]
    },
    {
      "cell_type": "markdown",
      "source": [
        "### Save Pruned Model"
      ],
      "metadata": {
        "id": "dsi5VV-2AUuc"
      }
    },
    {
      "cell_type": "code",
      "source": [
        "model_for_export = tfmot.sparsity.keras.strip_pruning(pruned_model)\n",
        "\n",
        "model_save_name = 'pruned_model'\n",
        "path = f\"/content/gdrive/My Drive/ML Projects/pruning/{model_save_name}.h5\"\n",
        "model_for_export.save(path)"
      ],
      "metadata": {
        "colab": {
          "base_uri": "https://localhost:8080/"
        },
        "id": "hquvePLQASqB",
        "outputId": "4f3cbb0e-e611-48d3-ac38-3476ca10e6b8"
      },
      "execution_count": 49,
      "outputs": [
        {
          "output_type": "stream",
          "name": "stderr",
          "text": [
            "/usr/local/lib/python3.10/dist-packages/keras/src/engine/training.py:3079: UserWarning: You are saving your model as an HDF5 file via `model.save()`. This file format is considered legacy. We recommend using instead the native Keras format, e.g. `model.save('my_model.keras')`.\n",
            "  saving_api.save_model(\n",
            "WARNING:tensorflow:Compiled the loaded model, but the compiled metrics have yet to be built. `model.compile_metrics` will be empty until you train or evaluate the model.\n"
          ]
        }
      ]
    },
    {
      "cell_type": "markdown",
      "source": [
        "### Compress Model Using TFLite"
      ],
      "metadata": {
        "id": "bAi7rMwIEmIm"
      }
    },
    {
      "cell_type": "code",
      "source": [
        "converter = tf.lite.TFLiteConverter.from_keras_model(model_for_export)\n",
        "pruned_tflite_model = converter.convert()"
      ],
      "metadata": {
        "id": "hDScVApfEXKg"
      },
      "execution_count": 50,
      "outputs": []
    },
    {
      "cell_type": "code",
      "source": [
        "model_save_name = 'pruned_tflite_model'\n",
        "path = f\"/content/gdrive/My Drive/ML Projects/pruning/{model_save_name}.tflite\"\n",
        "\n",
        "# Save the model.\n",
        "with open(path, 'wb') as f:\n",
        "  f.write(pruned_tflite_model)"
      ],
      "metadata": {
        "id": "vWp5O8WCFvcL"
      },
      "execution_count": 53,
      "outputs": []
    },
    {
      "cell_type": "markdown",
      "source": [
        "### Conclusion\n",
        "\n",
        "A model was initially trained to classify hand-written digits on the MNIST dataset. A accuracy of 99% was achieved in a model of 6.9 Mb.\n",
        "\n",
        "Using pruning techniques, the 99% was maintained and the model size shrinked to 2.3 Mb, representing a size reduction of 67%."
      ],
      "metadata": {
        "id": "b8eojalVHfA1"
      }
    }
  ]
}